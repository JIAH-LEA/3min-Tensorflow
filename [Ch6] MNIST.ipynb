{
 "cells": [
  {
   "cell_type": "markdown",
   "metadata": {},
   "source": [
    "## Chap6. Deeplearning MNIST\n",
    "\n",
    "### MINST 데이터셋 : 6만개의 학습데이터 1만개의 테스트 데이터 "
   ]
  },
  {
   "cell_type": "code",
   "execution_count": 5,
   "metadata": {},
   "outputs": [
    {
     "name": "stdout",
     "output_type": "stream",
     "text": [
      "WARNING:tensorflow:From <ipython-input-5-df6c3c653ca2>:3: read_data_sets (from tensorflow.contrib.learn.python.learn.datasets.mnist) is deprecated and will be removed in a future version.\n",
      "Instructions for updating:\n",
      "Please use alternatives such as official/mnist/dataset.py from tensorflow/models.\n",
      "WARNING:tensorflow:From C:\\Users\\leedm\\anaconda3\\envs\\tensorflow-cpu\\lib\\site-packages\\tensorflow_core\\contrib\\learn\\python\\learn\\datasets\\mnist.py:260: maybe_download (from tensorflow.contrib.learn.python.learn.datasets.base) is deprecated and will be removed in a future version.\n",
      "Instructions for updating:\n",
      "Please write your own downloading logic.\n",
      "WARNING:tensorflow:From C:\\Users\\leedm\\anaconda3\\envs\\tensorflow-cpu\\lib\\site-packages\\tensorflow_core\\contrib\\learn\\python\\learn\\datasets\\mnist.py:262: extract_images (from tensorflow.contrib.learn.python.learn.datasets.mnist) is deprecated and will be removed in a future version.\n",
      "Instructions for updating:\n",
      "Please use tf.data to implement this functionality.\n",
      "Extracting ./mnist/data/train-images-idx3-ubyte.gz\n",
      "WARNING:tensorflow:From C:\\Users\\leedm\\anaconda3\\envs\\tensorflow-cpu\\lib\\site-packages\\tensorflow_core\\contrib\\learn\\python\\learn\\datasets\\mnist.py:267: extract_labels (from tensorflow.contrib.learn.python.learn.datasets.mnist) is deprecated and will be removed in a future version.\n",
      "Instructions for updating:\n",
      "Please use tf.data to implement this functionality.\n",
      "Extracting ./mnist/data/train-labels-idx1-ubyte.gz\n",
      "WARNING:tensorflow:From C:\\Users\\leedm\\anaconda3\\envs\\tensorflow-cpu\\lib\\site-packages\\tensorflow_core\\contrib\\learn\\python\\learn\\datasets\\mnist.py:110: dense_to_one_hot (from tensorflow.contrib.learn.python.learn.datasets.mnist) is deprecated and will be removed in a future version.\n",
      "Instructions for updating:\n",
      "Please use tf.one_hot on tensors.\n",
      "Extracting ./mnist/data/t10k-images-idx3-ubyte.gz\n",
      "Extracting ./mnist/data/t10k-labels-idx1-ubyte.gz\n",
      "WARNING:tensorflow:From C:\\Users\\leedm\\anaconda3\\envs\\tensorflow-cpu\\lib\\site-packages\\tensorflow_core\\contrib\\learn\\python\\learn\\datasets\\mnist.py:290: DataSet.__init__ (from tensorflow.contrib.learn.python.learn.datasets.mnist) is deprecated and will be removed in a future version.\n",
      "Instructions for updating:\n",
      "Please use alternatives such as official/mnist/dataset.py from tensorflow/models.\n"
     ]
    }
   ],
   "source": [
    "import tensorflow as tf\n",
    "from tensorflow.examples.tutorials.mnist import input_data\n",
    "mnist = input_data.read_data_sets(\"./mnist/data/\", one_hot=True)"
   ]
  },
  {
   "cell_type": "code",
   "execution_count": 6,
   "metadata": {},
   "outputs": [],
   "source": [
    "#1. 신경망 모델 구성 \n",
    "\n",
    "# 입력 값의 차원: [배치크기(한번에 학습시킬 이미지 개수), 특성값] \n",
    "# 28x28 픽셀로 이루어져 있고, 이를 784개의 특성값으로 정함\n",
    "X = tf.placeholder(tf.float32, [None, 784])\n",
    "# 결과 : 0~9 의 10 가지 분류\n",
    "Y = tf.placeholder(tf.float32, [None, 10])"
   ]
  },
  {
   "cell_type": "markdown",
   "metadata": {},
   "source": [
    "### 신경망 구성 \n",
    "#### 784(입력 특성값)\n",
    "####   -> 256 (히든레이어 뉴런 갯수) -> 256 (히든레이어 뉴런 갯수)\n",
    "#### -> 10 (결과값 0~9 분류)"
   ]
  },
  {
   "cell_type": "code",
   "execution_count": 7,
   "metadata": {},
   "outputs": [
    {
     "name": "stdout",
     "output_type": "stream",
     "text": [
      "<tf.Variable 'Variable_2:0' shape=(256, 10) dtype=float32_ref>\n",
      "Tensor(\"MatMul_2:0\", shape=(?, 10), dtype=float32)\n"
     ]
    }
   ],
   "source": [
    "W1 = tf.Variable(tf.random_normal([784, 256], stddev=0.01))\n",
    "# ReLu 함수로 레이어 만들기 \n",
    "L1 = tf.nn.relu(tf.matmul(X, W1))\n",
    "\n",
    "W2 = tf.Variable(tf.random_normal([256, 256], stddev=0.01))\n",
    "L2 = tf.nn.relu(tf.matmul(L1, W2))\n",
    "\n",
    "## 마지막 계층(model)에 W3 곱함 -> 요소 10개짜리 배열 출력 \n",
    "# 출력층에는 보통 활성화 함수 사용 x\n",
    "W3 = tf.Variable(tf.random_normal([256, 10], stddev=0.01))\n",
    "model = tf.matmul(L2, W3)\n",
    "\n",
    "print(W3)\n",
    "print(model)"
   ]
  },
  {
   "cell_type": "code",
   "execution_count": 8,
   "metadata": {},
   "outputs": [],
   "source": [
    "cost = tf.reduce_mean(tf.nn.softmax_cross_entropy_with_logits_v2(logits=model, labels=Y))\n",
    "optimizer = tf.train.AdamOptimizer(0.001).minimize(cost)"
   ]
  },
  {
   "cell_type": "code",
   "execution_count": 11,
   "metadata": {},
   "outputs": [
    {
     "name": "stdout",
     "output_type": "stream",
     "text": [
      "Epoch: 0001 Avg. cost = 0.402\n",
      "Epoch: 0002 Avg. cost = 0.152\n",
      "Epoch: 0003 Avg. cost = 0.097\n",
      "Epoch: 0004 Avg. cost = 0.072\n",
      "Epoch: 0005 Avg. cost = 0.053\n",
      "Epoch: 0006 Avg. cost = 0.042\n",
      "Epoch: 0007 Avg. cost = 0.031\n",
      "Epoch: 0008 Avg. cost = 0.026\n",
      "Epoch: 0009 Avg. cost = 0.020\n",
      "Epoch: 0010 Avg. cost = 0.019\n",
      "Epoch: 0011 Avg. cost = 0.017\n",
      "Epoch: 0012 Avg. cost = 0.014\n",
      "Epoch: 0013 Avg. cost = 0.013\n",
      "Epoch: 0014 Avg. cost = 0.013\n",
      "Epoch: 0015 Avg. cost = 0.011\n"
     ]
    }
   ],
   "source": [
    "# 2. 신경망 초기화 및 학습\n",
    "\n",
    "init = tf.global_variables_initializer()\n",
    "sess = tf.Session()\n",
    "sess.run(init)\n",
    "\n",
    "## 미니배치 사이즈 100\n",
    "batch_size=100\n",
    "total_batch= int(mnist.train.num_examples / batch_size)\n",
    "\n",
    "## 데이터 전체를 총 15번 반복 학습 : epoch 15\n",
    "for epoch in range(15):\n",
    "    total_cost=0\n",
    "    # 미니배치 총 개수 만큼 반복 학습 \n",
    "    for i in range(total_batch):\n",
    "        #학습 할 데이터를 배치 크기만큼 가져옴\n",
    "        #입력값(이미지 데이터)은 batch_xs에 출력값(레이블 데이터)는 batch_ys에 저장 \n",
    "        batch_xs, batch_ys = mnist.train.next_batch(batch_size)\n",
    "        #sess.run 으로 최적화 & 손실값 가져와 저장 \n",
    "        _,cost_val = sess.run([optimizer, cost],\n",
    "                             feed_dict={X: batch_xs, Y:batch_ys})\n",
    "        total_cost += cost_val\n",
    "    # 한 세대 학습이 끝나면 학습 세대의 평균 손실값 출력 \n",
    "    print('Epoch:', '%04d' % (epoch + 1),\n",
    "          'Avg. cost =', '{:.3f}'.format(total_cost / total_batch))"
   ]
  },
  {
   "cell_type": "code",
   "execution_count": 22,
   "metadata": {},
   "outputs": [
    {
     "name": "stdout",
     "output_type": "stream",
     "text": [
      "[ -6.239683  -15.799313  -13.963224  -17.745037   -6.1251497  -1.6447306\n",
      "  22.213005  -26.76124    -1.9722008 -19.616735 ]\n",
      "Tensor(\"Equal_8:0\", shape=(?,), dtype=bool)\n",
      "[ True  True  True ...  True  True  True]\n",
      "정확도: 0.9796\n"
     ]
    }
   ],
   "source": [
    "# 3. 학습 결과 확인 \n",
    "\n",
    "## 9989번 째 숫자 예측하기 \n",
    "print(sess.run(model, feed_dict={X: mnist.test.images, Y:mnist.test.labels})[9989])\n",
    "## 예측 결과인 model 과 실제 레이블 Y 값을 비교\n",
    "is_correct = tf.equal(tf.argmax(model,1), tf.argmax(Y,1))\n",
    "print(is_correct)\n",
    "#이거 몇번 하는거야????\n",
    "print(sess.run(is_correct, feed_dict={X: mnist.test.images, Y:mnist.test.labels}))\n",
    "accuracy = tf.reduce_mean(tf.cast(is_correct, tf.float32))\n",
    "print('정확도:', sess.run(accuracy,\n",
    "                        feed_dict={X: mnist.test.images,\n",
    "                                   Y: mnist.test.labels}))"
   ]
  },
  {
   "cell_type": "markdown",
   "metadata": {},
   "source": [
    "### 드롭아웃 \n",
    "#### : 학습 시 전체 신경망 중 일부만을 사용하도록 하는 것 (학습 단계마다 일부 뉴런 제거)\n",
    "-> 일부 특징이 특정 뉴런에 고정되는 것을 막아 가중치의 균형을 잡는다\n",
    "* 학습시 일부 뉴런을 학습시키지 X , 신경망이 충분히 학습되기까지 시간이 오래 걸린다.\n"
   ]
  },
  {
   "cell_type": "code",
   "execution_count": 23,
   "metadata": {},
   "outputs": [
    {
     "name": "stdout",
     "output_type": "stream",
     "text": [
      "WARNING:tensorflow:From <ipython-input-23-63afc4cde42b>:7: calling dropout (from tensorflow.python.ops.nn_ops) with keep_prob is deprecated and will be removed in a future version.\n",
      "Instructions for updating:\n",
      "Please use `rate` instead of `keep_prob`. Rate should be set to `rate = 1 - keep_prob`.\n",
      "Epoch: 0001 Avg. cost = 0.425\n",
      "Epoch: 0002 Avg. cost = 0.163\n",
      "Epoch: 0003 Avg. cost = 0.114\n",
      "Epoch: 0004 Avg. cost = 0.087\n",
      "Epoch: 0005 Avg. cost = 0.073\n",
      "Epoch: 0006 Avg. cost = 0.059\n",
      "Epoch: 0007 Avg. cost = 0.053\n",
      "Epoch: 0008 Avg. cost = 0.045\n",
      "Epoch: 0009 Avg. cost = 0.040\n",
      "Epoch: 0010 Avg. cost = 0.037\n",
      "Epoch: 0011 Avg. cost = 0.033\n",
      "Epoch: 0012 Avg. cost = 0.032\n",
      "Epoch: 0013 Avg. cost = 0.028\n",
      "Epoch: 0014 Avg. cost = 0.027\n",
      "Epoch: 0015 Avg. cost = 0.024\n",
      "Epoch: 0016 Avg. cost = 0.025\n",
      "Epoch: 0017 Avg. cost = 0.023\n",
      "Epoch: 0018 Avg. cost = 0.022\n",
      "Epoch: 0019 Avg. cost = 0.020\n",
      "Epoch: 0020 Avg. cost = 0.022\n",
      "Epoch: 0021 Avg. cost = 0.021\n",
      "Epoch: 0022 Avg. cost = 0.018\n",
      "Epoch: 0023 Avg. cost = 0.019\n",
      "Epoch: 0024 Avg. cost = 0.020\n",
      "Epoch: 0025 Avg. cost = 0.017\n",
      "Epoch: 0026 Avg. cost = 0.018\n",
      "Epoch: 0027 Avg. cost = 0.017\n",
      "Epoch: 0028 Avg. cost = 0.017\n",
      "Epoch: 0029 Avg. cost = 0.016\n",
      "Epoch: 0030 Avg. cost = 0.014\n",
      "최적화 완료!\n"
     ]
    }
   ],
   "source": [
    "# 드롭아웃 기법 tf.nn.dropout\n",
    "\n",
    "keep_prob = tf.placeholder(tf.float32)\n",
    "\n",
    "W1 = tf.Variable(tf.random_normal([784, 256], stddev=0.01))\n",
    "L1 = tf.nn.relu(tf.matmul(X, W1))\n",
    "L1 = tf.nn.dropout(L1, keep_prob)\n",
    "\n",
    "W2 = tf.Variable(tf.random_normal([256, 256], stddev=0.01))\n",
    "L2 = tf.nn.relu(tf.matmul(L1, W2))\n",
    "L2 = tf.nn.dropout(L2, keep_prob)\n",
    "\n",
    "W3 = tf.Variable(tf.random_normal([256, 10], stddev=0.01))\n",
    "model = tf.matmul(L2, W3)\n",
    "\n",
    "cost = tf.reduce_mean(tf.nn.softmax_cross_entropy_with_logits_v2(logits=model, labels=Y))\n",
    "optimizer = tf.train.AdamOptimizer(0.001).minimize(cost)\n",
    "\n",
    "init = tf.global_variables_initializer()\n",
    "sess = tf.Session()\n",
    "sess.run(init)\n",
    "\n",
    "batch_size = 100\n",
    "total_batch = int(mnist.train.num_examples / batch_size)\n",
    "\n",
    "#학습 세대(epoch)를 30번으로 늘려 좀 더 학습시킴 \n",
    "for epoch in range(30):\n",
    "    total_cost = 0\n",
    "\n",
    "    for i in range(total_batch):\n",
    "        batch_xs, batch_ys = mnist.train.next_batch(batch_size)\n",
    "        #keep_prob 0.8 (사용 할 뉴런의 비율)\n",
    "        _, cost_val = sess.run([optimizer, cost], feed_dict={X: batch_xs,Y: batch_ys,keep_prob: 0.8})\n",
    "        total_cost += cost_val\n",
    "\n",
    "    print('Epoch:', '%04d' % (epoch + 1),\n",
    "          'Avg. cost =', '{:.3f}'.format(total_cost / total_batch))\n",
    "\n",
    "print('최적화 완료!')"
   ]
  },
  {
   "cell_type": "code",
   "execution_count": 24,
   "metadata": {},
   "outputs": [
    {
     "name": "stdout",
     "output_type": "stream",
     "text": [
      "정확도: 0.9814\n"
     ]
    }
   ],
   "source": [
    "is_correct = tf.equal(tf.argmax(model, 1), tf.argmax(Y, 1))\n",
    "accuracy = tf.reduce_mean(tf.cast(is_correct, tf.float32))\n",
    "#예측 코드는 keep_prob를 1로 넣어야함(신경망 전체를 사용하도록)\n",
    "print('정확도:', sess.run(accuracy,feed_dict={X: mnist.test.images,Y: mnist.test.labels,keep_prob: 1}))"
   ]
  },
  {
   "cell_type": "markdown",
   "metadata": {},
   "source": [
    "### Matplotlib : 시각화 라이브러리 \n",
    "\n",
    "#### 손글씨 이미지로 확인해보기 "
   ]
  },
  {
   "cell_type": "code",
   "execution_count": 30,
   "metadata": {},
   "outputs": [
    {
     "data": {
      "image/png": "[encoded data removed]",
      "text/plain": [
       "<Figure size 432x288 with 15 Axes>"
      ]
     },
     "metadata": {},
     "output_type": "display_data"
    }
   ],
   "source": [
    "import matplotlib.pyplot as plt\n",
    "import numpy as np\n",
    "\n",
    "#테스트 데이터로 예측모델 실행 후 결괏값을 label에 저장\n",
    "labels = sess.run(model,\n",
    "                 feed_dict={X: mnist.test.images,\n",
    "                           Y: mnist.test.labels, keep_prob:1})\n",
    "#그래프 생성 \n",
    "fig = plt.figure()\n",
    "\n",
    "for i in range(15):\n",
    "    #3행 5열의 그래프, i+1번째에 숫자 이미지 출력\n",
    "    subplot = fig.add_subplot(3, 5, i+1)\n",
    "    # x, y 눈금 출력 안하기\n",
    "    subplot.set_xticks([])\n",
    "    subplot.set_yticks([])\n",
    "    \n",
    "    #np.argmax ==tf.argmax \n",
    "    #해당 배열에서 가장 높은 값을 가진 인덱스를 예측한 숫자로 출력 \n",
    "    subplot.set_title('%d' % np.argmax(labels[i]))\n",
    "    \n",
    "    #28x28 형식의 2차원 배열로 변형(1->2)하여 이미지 출력 \n",
    "    subplot.imshow(mnist.test.images[i].reshape((28, 28)), cmap=plt.cm.gray_r)\n",
    "\n",
    "plt.show()"
   ]
  },
  {
   "cell_type": "code",
   "execution_count": null,
   "metadata": {},
   "outputs": [],
   "source": []
  }
 ],
 "metadata": {
  "kernelspec": {
   "display_name": "tensorflow",
   "language": "python",
   "name": "tensorflow-cpu"
  },
  "language_info": {
   "codemirror_mode": {
    "name": "ipython",
    "version": 3
   },
   "file_extension": ".py",
   "mimetype": "text/x-python",
   "name": "python",
   "nbconvert_exporter": "python",
   "pygments_lexer": "ipython3",
   "version": "3.7.9"
  }
 },
 "nbformat": 4,
 "nbformat_minor": 4
}
